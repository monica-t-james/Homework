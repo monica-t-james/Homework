{
 "cells": [
  {
   "cell_type": "markdown",
   "metadata": {},
   "source": [
    "# Pyber Analysis"
   ]
  },
  {
   "cell_type": "markdown",
   "metadata": {},
   "source": [
    "* I expected to see the highest number of rides and drivers in urban cities and the \"Total Rides by City Type\" and \"Total Drivers by City Type\" support my assumption, with 67.5% of the total rids and 86% of the total drivers.\n",
    "* Most of the fares for urban cities are under \\$30, indicating shorter rides. This might indicate urban riders are more prone to use the service since it is more affordable. \n",
    "* The number of drivers in urban cities is 7 times higher than suburban cities and urban cities get only 2.5 times more rides and 2 times more fares than suburban cities. This might mean that even though suburban drivers might not get as many rides as urban drivers, they might make just as much money."
   ]
  },
  {
   "cell_type": "code",
   "execution_count": null,
   "metadata": {},
   "outputs": [],
   "source": [
    "# Dependencies\n",
    "import matplotlib.pyplot as plt\n",
    "import numpy as np\n",
    "import pandas as pd\n",
    "import seaborn as sns"
   ]
  },
  {
   "cell_type": "code",
   "execution_count": null,
   "metadata": {},
   "outputs": [],
   "source": [
    "# Read in data\n",
    "city_df = pd.read_csv(\"raw_data/city_data.csv\")\n",
    "ride_df = pd.read_csv(\"raw_data/ride_data.csv\")\n",
    "all_df = pd.merge(city_df, ride_df, on=\"city\")\n",
    "all_df.head()"
   ]
  },
  {
   "cell_type": "code",
   "execution_count": null,
   "metadata": {},
   "outputs": [],
   "source": [
    "avg_fare_city = all_df.groupby(\"city\")[\"fare\"].mean()\n",
    "total_rides_city = all_df.groupby(\"city\")[\"ride_id\"].count()\n",
    "total_drivers_city = all_df.groupby(\"city\")[\"driver_count\"].max()\n",
    "city_type = all_df.groupby(\"city\")[\"type\"].max()"
   ]
  },
  {
   "cell_type": "markdown",
   "metadata": {},
   "source": [
    "# Bubble Plot of Ride Sharing Data"
   ]
  },
  {
   "cell_type": "code",
   "execution_count": null,
   "metadata": {},
   "outputs": [],
   "source": [
    "bubble_plot_df = pd.DataFrame({\"avg_fare\": avg_fare_city, \"total_rides\": total_rides_city, \"total_drivers\": total_drivers_city,\\\n",
    "                               \"city_type\": city_type})\n",
    "bubble_plot_df.head()"
   ]
  },
  {
   "cell_type": "code",
   "execution_count": null,
   "metadata": {},
   "outputs": [],
   "source": [
    "sns.set_style(\"darkgrid\")\n",
    "sns.lmplot(x=\"total_rides\", y=\"avg_fare\", data=bubble_plot_df, fit_reg=False, hue=\"city_type\", \\\n",
    "           scatter_kws={\"s\": bubble_plot_df[\"total_drivers\"], \"edgecolor\":\"black\", \"alpha\": .95}, legend_out=False, \\\n",
    "           palette= [\"lightcoral\", \"lightskyblue\", \"gold\"])\n",
    "plt.title(\"Pyber Ride Sharing Data (2016)\")\n",
    "plt.legend(title=\"City Types\", fontsize=12)\n",
    "plt.ylabel(\"Average Fare ($)\")\n",
    "plt.xlabel(\"Total Number of Rides (Per City)\")\n",
    "plt.figtext(1,.75, \"Note: \\nCircle size correlates with driver count per city.\", wrap=True, fontsize=12)\n",
    "plt.savefig(\"bubble_plot.png\")\n",
    "plt.show()"
   ]
  },
  {
   "cell_type": "markdown",
   "metadata": {},
   "source": [
    "# Total Fares by City Type"
   ]
  },
  {
   "cell_type": "code",
   "execution_count": null,
   "metadata": {},
   "outputs": [],
   "source": [
    "total_fares = all_df.groupby(\"type\")[\"fare\"].sum()\n",
    "city_type = [\"Rural\", \"Suburban\", \"Urban\"]\n",
    "explode = (0, 0, 0.1)\n",
    "colors=[\"gold\", \"lightskyblue\", \"lightcoral\"]\n",
    "total_fares"
   ]
  },
  {
   "cell_type": "code",
   "execution_count": null,
   "metadata": {},
   "outputs": [],
   "source": [
    "plt.pie(total_fares, labels=city_type, explode=explode, colors=colors, autopct=\"%1.1f%%\", shadow=True, startangle=110)\n",
    "plt.title(\"% of Total Fares by City Type\")\n",
    "plt.savefig(\"Pie_Fares.png\")\n",
    "plt.show()"
   ]
  },
  {
   "cell_type": "markdown",
   "metadata": {},
   "source": [
    "# Total Rides by City Type"
   ]
  },
  {
   "cell_type": "code",
   "execution_count": null,
   "metadata": {},
   "outputs": [],
   "source": [
    "total_rides = all_df.groupby(\"type\")[\"ride_id\"].count()\n",
    "total_rides"
   ]
  },
  {
   "cell_type": "code",
   "execution_count": null,
   "metadata": {},
   "outputs": [],
   "source": [
    "plt.pie(total_rides, labels=city_type, explode=explode, colors=colors, autopct=\"%1.1f%%\", shadow=True, startangle=120)\n",
    "plt.title(\"% of Total Rides by City Type\")\n",
    "plt.savefig(\"Pie_Rides.png\")\n",
    "plt.show()"
   ]
  },
  {
   "cell_type": "markdown",
   "metadata": {},
   "source": [
    "# Total Drivers by City Type"
   ]
  },
  {
   "cell_type": "code",
   "execution_count": null,
   "metadata": {},
   "outputs": [],
   "source": [
    "total_drivers = all_df.groupby(\"type\")[\"driver_count\"].sum()\n",
    "total_drivers"
   ]
  },
  {
   "cell_type": "code",
   "execution_count": null,
   "metadata": {},
   "outputs": [],
   "source": [
    "plt.pie(total_drivers, labels=city_type, explode=explode, colors=colors, autopct=\"%1.1f%%\", shadow=True, startangle=170)\n",
    "plt.title(\"% of Total Drivers by City Type\")\n",
    "plt.savefig(\"Pie_Drivers.png\")\n",
    "plt.show()"
   ]
  },
  {
   "cell_type": "code",
   "execution_count": null,
   "metadata": {},
   "outputs": [],
   "source": []
  },
  {
   "cell_type": "code",
   "execution_count": null,
   "metadata": {},
   "outputs": [],
   "source": []
  }
 ],
 "metadata": {
  "kernelspec": {
   "display_name": "Python 3",
   "language": "python",
   "name": "python3"
  },
  "language_info": {
   "codemirror_mode": {
    "name": "ipython",
    "version": 3
   },
   "file_extension": ".py",
   "mimetype": "text/x-python",
   "name": "python",
   "nbconvert_exporter": "python",
   "pygments_lexer": "ipython3",
   "version": "3.6.4"
  }
 },
 "nbformat": 4,
 "nbformat_minor": 2
}
